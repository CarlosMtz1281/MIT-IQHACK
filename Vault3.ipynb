{
 "cells": [
  {
   "cell_type": "markdown",
   "metadata": {},
   "source": [
    "# Reconstruction exmaple"
   ]
  },
  {
   "cell_type": "markdown",
   "metadata": {},
   "source": [
    "## Import the relevant libraries"
   ]
  },
  {
   "cell_type": "code",
   "execution_count": 1,
   "metadata": {
    "tags": []
   },
   "outputs": [],
   "source": [
    "import cirq\n",
    "import numpy as np\n",
    "import sympy\n",
    "from qiskit import *\n",
    "from qiskit import QuantumCircuit"
   ]
  },
  {
   "cell_type": "code",
   "execution_count": 2,
   "metadata": {
    "tags": []
   },
   "outputs": [],
   "source": [
    "import server\n",
    "\n",
    "server = server.Server()"
   ]
  },
  {
   "cell_type": "markdown",
   "metadata": {},
   "source": [
    "## Register team"
   ]
  },
  {
   "cell_type": "code",
   "execution_count": 3,
   "metadata": {
    "tags": []
   },
   "outputs": [
    {
     "name": "stdout",
     "output_type": "stream",
     "text": [
      "Successfully registered new team, 'Sabritones'. Good luck!\n",
      "\n",
      "Reminder: attacks and probes are limited to 20 per vault, per team.\n",
      "Vault index 0 is a test vault with 50 test probes and attacks, and does not count towards your final score.\n",
      "There is a request frequency limit of 10 probes/attacks per minute, per team.\n"
     ]
    }
   ],
   "source": [
    "server.register(\"Sabritones\")"
   ]
  },
  {
   "cell_type": "markdown",
   "metadata": {},
   "source": [
    "## Test probe using vault 9\n"
   ]
  },
  {
   "cell_type": "code",
   "execution_count": 31,
   "metadata": {},
   "outputs": [
    {
     "name": "stdout",
     "output_type": "stream",
     "text": [
      "// Generated from Cirq v1.3.0\n",
      "\n",
      "OPENQASM 2.0;\n",
      "include \"qelib1.inc\";\n",
      "\n",
      "\n",
      "// Qubits: [q(0), q(1), q(2), q(3), q(4), q(5), q(6), q(7), q(8), q(9), q(10), q(11)]\n",
      "qreg q[12];\n",
      "\n",
      "\n",
      "h q[0];\n",
      "h q[1];\n",
      "h q[2];\n",
      "h q[3];\n",
      "h q[4];\n",
      "h q[5];\n",
      "h q[6];\n",
      "h q[7];\n",
      "h q[8];\n",
      "h q[9];\n",
      "h q[10];\n",
      "h q[11];\n",
      "cx q[10],q[11];\n",
      "cz q[1],q[2];\n",
      "\n"
     ]
    }
   ],
   "source": [
    "# Circuito 1\n",
    "circuit1 = cirq.Circuit([cirq.H(cirq.LineQubit(i)) for i in range(12)] +\n",
    "                        [cirq.CNOT(cirq.LineQubit(0), cirq.LineQubit(1)),\n",
    "                         cirq.CZ(cirq.LineQubit(2), cirq.LineQubit(3))])\n",
    "\n",
    "# Circuito 2\n",
    "circuit2 = cirq.Circuit([cirq.X(cirq.LineQubit(i)) for i in range(0, 12, 2)] +\n",
    "                        [cirq.Y(cirq.LineQubit(i)) for i in range(1, 12, 2)] +\n",
    "                        [cirq.CNOT(cirq.LineQubit(4), cirq.LineQubit(5))])\n",
    "\n",
    "# Circuito 3\n",
    "circuit3 = cirq.Circuit([cirq.T(cirq.LineQubit(i)) for i in range(6)] +\n",
    "                        [cirq.S(cirq.LineQubit(i)) for i in range(6, 12)] +\n",
    "                        [cirq.CZ(cirq.LineQubit(6), cirq.LineQubit(7))])\n",
    "\n",
    "# Circuito 4\n",
    "circuit4 = cirq.Circuit([cirq.Z(cirq.LineQubit(i)) for i in range(12)] +\n",
    "                        [cirq.CNOT(cirq.LineQubit(8), cirq.LineQubit(9))])\n",
    "\n",
    "# Circuito 5\n",
    "circuit5 = cirq.Circuit([cirq.H(cirq.LineQubit(i)) for i in range(4)] +\n",
    "                        [cirq.X(cirq.LineQubit(i)) for i in range(4, 8)] +\n",
    "                        [cirq.Y(cirq.LineQubit(i)) for i in range(8, 12)] +\n",
    "                        [cirq.CZ(cirq.LineQubit(10), cirq.LineQubit(11))])\n",
    "\n",
    "# Circuito 6\n",
    "circuit6 = cirq.Circuit([cirq.S(cirq.LineQubit(i)) for i in range(0, 6)] +\n",
    "                        [cirq.T(cirq.LineQubit(i)) for i in range(6, 12)] +\n",
    "                        [cirq.CNOT(cirq.LineQubit(2), cirq.LineQubit(3)),\n",
    "                         cirq.CZ(cirq.LineQubit(4), cirq.LineQubit(5))])\n",
    "\n",
    "# Circuito 7\n",
    "circuit7 = cirq.Circuit([cirq.H(cirq.LineQubit(i)) for i in range(12)] +\n",
    "                        [cirq.CNOT(cirq.LineQubit(6), cirq.LineQubit(7)),\n",
    "                         cirq.CZ(cirq.LineQubit(8), cirq.LineQubit(9))])\n",
    "\n",
    "# Circuito 8\n",
    "circuit8 = cirq.Circuit([cirq.X(cirq.LineQubit(i)) for i in range(12)] +\n",
    "                        [cirq.CNOT(cirq.LineQubit(10), cirq.LineQubit(11))])\n",
    "\n",
    "# Circuito 9\n",
    "circuit9 = cirq.Circuit([cirq.Y(cirq.LineQubit(i)) for i in range(12)] +\n",
    "                        [cirq.CZ(cirq.LineQubit(0), cirq.LineQubit(1))])\n",
    "\n",
    "# Circuito 10\n",
    "circuit10 = cirq.Circuit([cirq.Z(cirq.LineQubit(i)) for i in range(12)] +\n",
    "                         [cirq.CNOT(cirq.LineQubit(4), cirq.LineQubit(5))])\n",
    "\n",
    "# Circuito 11\n",
    "circuit11 = cirq.Circuit([cirq.T(cirq.LineQubit(i)) for i in range(12)] +\n",
    "                         [cirq.CZ(cirq.LineQubit(6), cirq.LineQubit(7))])\n",
    "\n",
    "# Circuito 12\n",
    "circuit12 = cirq.Circuit([cirq.S(cirq.LineQubit(i)) for i in range(12)] +\n",
    "                         [cirq.CNOT(cirq.LineQubit(8), cirq.LineQubit(9))])\n",
    "\n",
    "# Circuito 13\n",
    "circuit13 = cirq.Circuit([cirq.H(cirq.LineQubit(i)) for i in range(12)] +\n",
    "                         [cirq.CNOT(cirq.LineQubit(10), cirq.LineQubit(11)),\n",
    "                          cirq.CZ(cirq.LineQubit(1), cirq.LineQubit(2))])\n",
    "\n",
    "\n",
    "\n",
    "\n",
    "test_probe = cirq.qasm(circuit13)\n",
    "print(test_probe)"
   ]
  },
  {
   "cell_type": "code",
   "execution_count": 32,
   "metadata": {},
   "outputs": [
    {
     "data": {
      "text/plain": [
       "{'12': 0.005,\n",
       " '33': 0.005,\n",
       " '50': 0.015,\n",
       " '52': 0.01,\n",
       " '100': 0.005,\n",
       " '124': 0.005,\n",
       " '275': 0.005,\n",
       " '276': 0.01,\n",
       " '279': 0.005,\n",
       " '300': 0.01,\n",
       " '316': 0.005,\n",
       " '364': 0.005,\n",
       " '367': 0.005,\n",
       " '372': 0.005,\n",
       " '425': 0.005,\n",
       " '428': 0.005,\n",
       " '489': 0.005,\n",
       " '524': 0.015,\n",
       " '531': 0.005,\n",
       " '532': 0.005,\n",
       " '541': 0.005,\n",
       " '556': 0.01,\n",
       " '562': 0.005,\n",
       " '564': 0.005,\n",
       " '572': 0.005,\n",
       " '596': 0.005,\n",
       " '604': 0.005,\n",
       " '618': 0.005,\n",
       " '628': 0.005,\n",
       " '778': 0.005,\n",
       " '779': 0.005,\n",
       " '780': 0.01,\n",
       " '786': 0.015,\n",
       " '788': 0.015,\n",
       " '796': 0.005,\n",
       " '810': 0.005,\n",
       " '812': 0.015,\n",
       " '818': 0.01,\n",
       " '820': 0.02,\n",
       " '828': 0.015,\n",
       " '836': 0.005,\n",
       " '868': 0.005,\n",
       " '874': 0.005,\n",
       " '876': 0.01,\n",
       " '948': 0.005,\n",
       " '1009': 0.005,\n",
       " '1011': 0.005,\n",
       " '1031': 0.005,\n",
       " '1036': 0.01,\n",
       " '1044': 0.005,\n",
       " '1068': 0.01,\n",
       " '1076': 0.015,\n",
       " '1084': 0.005,\n",
       " '1086': 0.005,\n",
       " '1123': 0.005,\n",
       " '1130': 0.005,\n",
       " '1132': 0.02,\n",
       " '1133': 0.005,\n",
       " '1236': 0.005,\n",
       " '1292': 0.015,\n",
       " '1298': 0.005,\n",
       " '1300': 0.005,\n",
       " '1324': 0.005,\n",
       " '1332': 0.005,\n",
       " '1376': 0.005,\n",
       " '1381': 0.005,\n",
       " '1386': 0.005,\n",
       " '1391': 0.005,\n",
       " '1450': 0.005,\n",
       " '1468': 0.005,\n",
       " '1492': 0.005,\n",
       " '1548': 0.015,\n",
       " '1551': 0.005,\n",
       " '1553': 0.01,\n",
       " '1554': 0.005,\n",
       " '1556': 0.025,\n",
       " '1568': 0.005,\n",
       " '1578': 0.01,\n",
       " '1579': 0.005,\n",
       " '1583': 0.005,\n",
       " '1585': 0.005,\n",
       " '1586': 0.005,\n",
       " '1588': 0.035,\n",
       " '1620': 0.005,\n",
       " '1639': 0.005,\n",
       " '1642': 0.005,\n",
       " '1644': 0.015,\n",
       " '1646': 0.005,\n",
       " '1652': 0.005,\n",
       " '1690': 0.005,\n",
       " '1713': 0.005,\n",
       " '1799': 0.005,\n",
       " '1804': 0.005,\n",
       " '1809': 0.005,\n",
       " '1812': 0.01,\n",
       " '1834': 0.01,\n",
       " '1836': 0.005,\n",
       " '1842': 0.01,\n",
       " '1851': 0.005,\n",
       " '1852': 0.005,\n",
       " '1863': 0.005,\n",
       " '1900': 0.005,\n",
       " '1908': 0.005,\n",
       " '1962': 0.005,\n",
       " '1963': 0.005,\n",
       " '1972': 0.005,\n",
       " '1999': 0.005,\n",
       " '2002': 0.005,\n",
       " '2352': 0.005,\n",
       " '2409': 0.005,\n",
       " '2476': 0.005,\n",
       " '2580': 0.005,\n",
       " '2599': 0.005,\n",
       " '2610': 0.005,\n",
       " '2618': 0.005,\n",
       " '2620': 0.005,\n",
       " '2676': 0.005,\n",
       " '2828': 0.005,\n",
       " '2832': 0.005,\n",
       " '2836': 0.01,\n",
       " '2860': 0.01,\n",
       " '2868': 0.005,\n",
       " '2874': 0.005,\n",
       " '2876': 0.005,\n",
       " '2892': 0.005,\n",
       " '2932': 0.01,\n",
       " '3036': 0.005,\n",
       " '3044': 0.005,\n",
       " '3092': 0.005,\n",
       " '3624': 0.005,\n",
       " '3633': 0.005,\n",
       " '3636': 0.015,\n",
       " '3692': 0.015,\n",
       " '3850': 0.005,\n",
       " '3852': 0.005,\n",
       " '3860': 0.01,\n",
       " '3892': 0.02,\n",
       " '3964': 0.005,\n",
       " '4082': 0.005}"
      ]
     },
     "execution_count": 32,
     "metadata": {},
     "output_type": "execute_result"
    }
   ],
   "source": [
    "#!!!!!!!!!!!!!!!!!!!!!!!!!!!!!!!!!!!!!!!!!!!!!!!!!!!!!!!!!!!!!!!!!!!!!!\n",
    "#!!!!!!!!!!!Be careful about the Endian of returned histogram!!!!!!!!!!\n",
    "#!!!!!!!!!!!!!!!!!!!!!!!!!!!!!!!!!!!!!!!!!!!!!!!!!!!!!!!!!!!!!!!!!!!!!!\n",
    "server.probe(vault_index=3, circuit=test_probe)"
   ]
  },
  {
   "cell_type": "markdown",
   "metadata": {},
   "source": [
    "## Test attack using vault 0"
   ]
  },
  {
   "cell_type": "code",
   "execution_count": 35,
   "metadata": {
    "tags": []
   },
   "outputs": [
    {
     "name": "stdout",
     "output_type": "stream",
     "text": [
      "// Generated from Cirq v1.3.0\n",
      "\n",
      "OPENQASM 2.0;\n",
      "include \"qelib1.inc\";\n",
      "\n",
      "\n",
      "// Qubits: []\n",
      "\n"
     ]
    }
   ],
   "source": [
    "circuit2 = cirq.Circuit()\n",
    "\n",
    "test_attack = cirq.qasm(circuit2)\n",
    "print(test_attack)"
   ]
  },
  {
   "cell_type": "code",
   "execution_count": 36,
   "metadata": {
    "tags": []
   },
   "outputs": [
    {
     "data": {
      "text/plain": [
       "{'costFactor': 1, 'score': 0, 'rawScore': 0}"
      ]
     },
     "execution_count": 36,
     "metadata": {},
     "output_type": "execute_result"
    }
   ],
   "source": [
    "server.attack(vault_index=3, circuit=test_attack)"
   ]
  },
  {
   "cell_type": "markdown",
   "metadata": {},
   "source": [
    "## Check state"
   ]
  },
  {
   "cell_type": "markdown",
   "metadata": {},
   "source": [
    "Check state for your team's current score(s), and number of probes/attacks remaining"
   ]
  },
  {
   "cell_type": "code",
   "execution_count": 16,
   "metadata": {
    "tags": []
   },
   "outputs": [
    {
     "data": {
      "text/plain": [
       "{'team': 'Sabritones',\n",
       " 'totalAvgScore': 0.14146813725490195,\n",
       " 'topVaultScores': [0.8,\n",
       "  0,\n",
       "  0,\n",
       "  0,\n",
       "  0,\n",
       "  0.499,\n",
       "  0,\n",
       "  0,\n",
       "  0,\n",
       "  0.7021176470588235,\n",
       "  0.254,\n",
       "  0.2155,\n",
       "  0.027],\n",
       " 'probesRemaining': [29, 20, 14, 20, 20, 12, 20, 20, 20, 15, 17, 15, 11],\n",
       " 'attacksRemaining': [30, 20, 20, 20, 20, 16, 20, 20, 20, 13, 17, 17, 19],\n",
       " 'reminder': 'Vault index 0 is a test vault, and does not count towards your final score.'}"
      ]
     },
     "execution_count": 16,
     "metadata": {},
     "output_type": "execute_result"
    }
   ],
   "source": [
    "server.state()"
   ]
  },
  {
   "cell_type": "code",
   "execution_count": null,
   "metadata": {},
   "outputs": [],
   "source": []
  }
 ],
 "metadata": {
  "kernelspec": {
   "display_name": "Python 3 [Default]",
   "language": "python",
   "name": "python3"
  },
  "language_info": {
   "codemirror_mode": {
    "name": "ipython",
    "version": 3
   },
   "file_extension": ".py",
   "mimetype": "text/x-python",
   "name": "python",
   "nbconvert_exporter": "python",
   "pygments_lexer": "ipython3",
   "version": "3.11.7"
  },
  "vscode": {
   "interpreter": {
    "hash": "159d45c1b56606e60b489f81d4ff9591881a6e95352a42f62c421b24d39eb409"
   }
  }
 },
 "nbformat": 4,
 "nbformat_minor": 4
}
