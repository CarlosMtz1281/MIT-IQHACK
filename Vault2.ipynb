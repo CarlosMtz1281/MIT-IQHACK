{
 "cells": [
  {
   "cell_type": "markdown",
   "metadata": {},
   "source": [
    "# Reconstruction exmaple"
   ]
  },
  {
   "cell_type": "markdown",
   "metadata": {},
   "source": [
    "## Import the relevant libraries"
   ]
  },
  {
   "cell_type": "code",
   "execution_count": 1,
   "metadata": {
    "tags": []
   },
   "outputs": [],
   "source": [
    "import cirq\n",
    "import numpy as np\n",
    "import sympy\n",
    "from qiskit import *\n",
    "from qiskit import QuantumCircuit"
   ]
  },
  {
   "cell_type": "code",
   "execution_count": 2,
   "metadata": {
    "tags": []
   },
   "outputs": [],
   "source": [
    "import server\n",
    "\n",
    "server = server.Server()"
   ]
  },
  {
   "cell_type": "markdown",
   "metadata": {},
   "source": [
    "## Register team"
   ]
  },
  {
   "cell_type": "code",
   "execution_count": 3,
   "metadata": {
    "tags": []
   },
   "outputs": [
    {
     "name": "stdout",
     "output_type": "stream",
     "text": [
      "Successfully registered new team, 'Sabritones'. Good luck!\n",
      "\n",
      "Reminder: attacks and probes are limited to 20 per vault, per team.\n",
      "Vault index 0 is a test vault with 50 test probes and attacks, and does not count towards your final score.\n",
      "There is a request frequency limit of 10 probes/attacks per minute, per team.\n"
     ]
    }
   ],
   "source": [
    "server.register(\"Sabritones\")"
   ]
  },
  {
   "cell_type": "markdown",
   "metadata": {},
   "source": [
    "## Test probe using vault 9\n"
   ]
  },
  {
   "cell_type": "code",
   "execution_count": 39,
   "metadata": {},
   "outputs": [
    {
     "name": "stdout",
     "output_type": "stream",
     "text": [
      "// Generated from Cirq v1.3.0\n",
      "\n",
      "OPENQASM 2.0;\n",
      "include \"qelib1.inc\";\n",
      "\n",
      "\n",
      "// Qubits: [q(0), q(1), q(2), q(3), q(4), q(5)]\n",
      "qreg q[6];\n",
      "\n",
      "\n",
      "t q[0];\n",
      "cz q[1],q[2];\n",
      "h q[3];\n",
      "x q[4];\n",
      "y q[5];\n",
      "cx q[0],q[5];\n",
      "\n"
     ]
    }
   ],
   "source": [
    "# Crear el circuito\n",
    "circuit1 = cirq.Circuit(\n",
    "    cirq.H(cirq.LineQubit(0)),\n",
    "    cirq.X(cirq.LineQubit(1)),\n",
    "    cirq.Y(cirq.LineQubit(2)),\n",
    "    cirq.Z(cirq.LineQubit(3)),\n",
    "    cirq.S(cirq.LineQubit(4)),\n",
    "    cirq.T(cirq.LineQubit(5)),\n",
    "    cirq.CNOT(cirq.LineQubit(0), cirq.LineQubit(1)),\n",
    "    cirq.CZ(cirq.LineQubit(2), cirq.LineQubit(3))\n",
    ")\n",
    "\n",
    "circuit2 = cirq.Circuit(\n",
    "    cirq.X(cirq.LineQubit(0)),\n",
    "    cirq.CNOT(cirq.LineQubit(1), cirq.LineQubit(2)),\n",
    "    cirq.T(cirq.LineQubit(3)),\n",
    "    cirq.H(cirq.LineQubit(4)),\n",
    "    cirq.S(cirq.LineQubit(5))\n",
    ")\n",
    "\n",
    "circuit3 = cirq.Circuit(\n",
    "    cirq.H(cirq.LineQubit(0)),\n",
    "    cirq.S(cirq.LineQubit(1)),\n",
    "    cirq.T(cirq.LineQubit(2)),\n",
    "    cirq.CNOT(cirq.LineQubit(3), cirq.LineQubit(4)),\n",
    "    cirq.X(cirq.LineQubit(5))\n",
    ")\n",
    "\n",
    "circuit4 = cirq.Circuit(\n",
    "    cirq.Y(cirq.LineQubit(0)),\n",
    "    cirq.Z(cirq.LineQubit(1)),\n",
    "    cirq.H(cirq.LineQubit(2)),\n",
    "    cirq.CZ(cirq.LineQubit(3), cirq.LineQubit(4)),\n",
    "    cirq.S(cirq.LineQubit(5))\n",
    ")\n",
    "\n",
    "circuit5 = cirq.Circuit(\n",
    "    cirq.T(cirq.LineQubit(0)),\n",
    "    cirq.H(cirq.LineQubit(1)),\n",
    "    cirq.X(cirq.LineQubit(2)),\n",
    "    cirq.Y(cirq.LineQubit(3)),\n",
    "    cirq.CNOT(cirq.LineQubit(4), cirq.LineQubit(5))\n",
    ")\n",
    "\n",
    "circuit6 = cirq.Circuit(\n",
    "    cirq.CZ(cirq.LineQubit(0), cirq.LineQubit(1)),\n",
    "    cirq.H(cirq.LineQubit(2)),\n",
    "    cirq.X(cirq.LineQubit(3)),\n",
    "    cirq.S(cirq.LineQubit(4)),\n",
    "    cirq.T(cirq.LineQubit(5)),\n",
    "    cirq.Y(cirq.LineQubit(1))\n",
    ")\n",
    "\n",
    "circuit7 = cirq.Circuit(\n",
    "    cirq.H(cirq.LineQubit(0)),\n",
    "    cirq.X(cirq.LineQubit(1)),\n",
    "    cirq.CNOT(cirq.LineQubit(2), cirq.LineQubit(3)),\n",
    "    cirq.Z(cirq.LineQubit(4)),\n",
    "    cirq.Y(cirq.LineQubit(5))\n",
    ")\n",
    "\n",
    "circuit8 = cirq.Circuit(\n",
    "    cirq.S(cirq.LineQubit(0)),\n",
    "    cirq.T(cirq.LineQubit(1)),\n",
    "    cirq.H(cirq.LineQubit(2)),\n",
    "    cirq.CZ(cirq.LineQubit(3), cirq.LineQubit(5)),\n",
    "    cirq.CNOT(cirq.LineQubit(4), cirq.LineQubit(0))\n",
    ")\n",
    "\n",
    "circuit9 = cirq.Circuit(\n",
    "    cirq.X(cirq.LineQubit(0)),\n",
    "    cirq.H(cirq.LineQubit(1)),\n",
    "    cirq.Z(cirq.LineQubit(2)),\n",
    "    cirq.CNOT(cirq.LineQubit(3), cirq.LineQubit(4)),\n",
    "    cirq.S(cirq.LineQubit(5))\n",
    ")\n",
    "\n",
    "circuit10 = cirq.Circuit(\n",
    "    cirq.T(cirq.LineQubit(0)),\n",
    "    cirq.CZ(cirq.LineQubit(1), cirq.LineQubit(2)),\n",
    "    cirq.H(cirq.LineQubit(3)),\n",
    "    cirq.X(cirq.LineQubit(4)),\n",
    "    cirq.Y(cirq.LineQubit(5)),\n",
    "    cirq.CNOT(cirq.LineQubit(0), cirq.LineQubit(5))\n",
    ")\n",
    "\n",
    "\n",
    "\n",
    "\n",
    "\n",
    "#for i in range(0,15):\n",
    "#    cq.append(cirq.H.on(cirq.LineQubit(i)))\n",
    "\n",
    "\n",
    "test_probe = cirq.qasm(circuit10)\n",
    "print(test_probe)"
   ]
  },
  {
   "cell_type": "code",
   "execution_count": 40,
   "metadata": {},
   "outputs": [
    {
     "data": {
      "text/plain": [
       "{'1': 0.035,\n",
       " '2': 0.015,\n",
       " '3': 0.01,\n",
       " '4': 0.005,\n",
       " '5': 0.015,\n",
       " '6': 0.06,\n",
       " '7': 0.025,\n",
       " '8': 0.03,\n",
       " '9': 0.005,\n",
       " '10': 0.07,\n",
       " '11': 0.045,\n",
       " '12': 0.005,\n",
       " '13': 0.055,\n",
       " '14': 0.005,\n",
       " '15': 0.02,\n",
       " '16': 0.035,\n",
       " '17': 0.005,\n",
       " '18': 0.025,\n",
       " '19': 0.04,\n",
       " '21': 0.005,\n",
       " '23': 0.08,\n",
       " '25': 0.005,\n",
       " '26': 0.085,\n",
       " '27': 0.015,\n",
       " '28': 0.01,\n",
       " '29': 0.06,\n",
       " '31': 0.01,\n",
       " '32': 0.02,\n",
       " '34': 0.01,\n",
       " '36': 0.015,\n",
       " '37': 0.02,\n",
       " '40': 0.005,\n",
       " '41': 0.005,\n",
       " '42': 0.005,\n",
       " '43': 0.01,\n",
       " '44': 0.02,\n",
       " '45': 0.01,\n",
       " '48': 0.015,\n",
       " '54': 0.015,\n",
       " '55': 0.005,\n",
       " '56': 0.005,\n",
       " '58': 0.03,\n",
       " '59': 0.005,\n",
       " '60': 0.025,\n",
       " '63': 0.005}"
      ]
     },
     "execution_count": 40,
     "metadata": {},
     "output_type": "execute_result"
    }
   ],
   "source": [
    "#!!!!!!!!!!!!!!!!!!!!!!!!!!!!!!!!!!!!!!!!!!!!!!!!!!!!!!!!!!!!!!!!!!!!!!\n",
    "#!!!!!!!!!!!Be careful about the Endian of returned histogram!!!!!!!!!!\n",
    "#!!!!!!!!!!!!!!!!!!!!!!!!!!!!!!!!!!!!!!!!!!!!!!!!!!!!!!!!!!!!!!!!!!!!!!\n",
    "server.probe(vault_index=2, circuit=test_probe)"
   ]
  },
  {
   "cell_type": "markdown",
   "metadata": {},
   "source": [
    "## Test attack using vault 0"
   ]
  },
  {
   "cell_type": "code",
   "execution_count": 27,
   "metadata": {
    "tags": []
   },
   "outputs": [
    {
     "name": "stdout",
     "output_type": "stream",
     "text": [
      "// Generated from Cirq v1.3.0\n",
      "\n",
      "OPENQASM 2.0;\n",
      "include \"qelib1.inc\";\n",
      "\n",
      "\n",
      "// Qubits: [q(0), q(1), q(2), q(3), q(4), q(5)]\n",
      "qreg q[6];\n",
      "\n",
      "\n",
      "t q[0];\n",
      "h q[1];\n",
      "x q[2];\n",
      "y q[3];\n",
      "cx q[4],q[5];\n",
      "\n"
     ]
    }
   ],
   "source": [
    "circuit5 = cirq.Circuit(\n",
    "    cirq.T(cirq.LineQubit(0)),\n",
    "    cirq.H(cirq.LineQubit(1)),\n",
    "    cirq.X(cirq.LineQubit(2)),\n",
    "    cirq.Y(cirq.LineQubit(3)),\n",
    "    cirq.CNOT(cirq.LineQubit(4), cirq.LineQubit(5))\n",
    ")\n",
    "\n",
    "test_attack = cirq.qasm(circuit5)\n",
    "print(test_attack)"
   ]
  },
  {
   "cell_type": "code",
   "execution_count": 28,
   "metadata": {
    "tags": []
   },
   "outputs": [
    {
     "data": {
      "text/plain": [
       "{'rawScore': 0.062,\n",
       " 'costFactor': 0.994475138121547,\n",
       " 'score': 0.06165745856353591}"
      ]
     },
     "execution_count": 28,
     "metadata": {},
     "output_type": "execute_result"
    }
   ],
   "source": [
    "server.attack(vault_index=2, circuit=test_attack)"
   ]
  },
  {
   "cell_type": "markdown",
   "metadata": {},
   "source": [
    "## Check state"
   ]
  },
  {
   "cell_type": "markdown",
   "metadata": {},
   "source": [
    "Check state for your team's current score(s), and number of probes/attacks remaining"
   ]
  },
  {
   "cell_type": "code",
   "execution_count": 16,
   "metadata": {
    "tags": []
   },
   "outputs": [
    {
     "data": {
      "text/plain": [
       "{'team': 'Sabritones',\n",
       " 'totalAvgScore': 0.14146813725490195,\n",
       " 'topVaultScores': [0.8,\n",
       "  0,\n",
       "  0,\n",
       "  0,\n",
       "  0,\n",
       "  0.499,\n",
       "  0,\n",
       "  0,\n",
       "  0,\n",
       "  0.7021176470588235,\n",
       "  0.254,\n",
       "  0.2155,\n",
       "  0.027],\n",
       " 'probesRemaining': [29, 20, 14, 20, 20, 12, 20, 20, 20, 15, 17, 15, 11],\n",
       " 'attacksRemaining': [30, 20, 20, 20, 20, 16, 20, 20, 20, 13, 17, 17, 19],\n",
       " 'reminder': 'Vault index 0 is a test vault, and does not count towards your final score.'}"
      ]
     },
     "execution_count": 16,
     "metadata": {},
     "output_type": "execute_result"
    }
   ],
   "source": [
    "server.state()"
   ]
  },
  {
   "cell_type": "code",
   "execution_count": null,
   "metadata": {},
   "outputs": [],
   "source": []
  }
 ],
 "metadata": {
  "kernelspec": {
   "display_name": "Python 3 [Default]",
   "language": "python",
   "name": "python3"
  },
  "language_info": {
   "codemirror_mode": {
    "name": "ipython",
    "version": 3
   },
   "file_extension": ".py",
   "mimetype": "text/x-python",
   "name": "python",
   "nbconvert_exporter": "python",
   "pygments_lexer": "ipython3",
   "version": "3.11.7"
  },
  "vscode": {
   "interpreter": {
    "hash": "159d45c1b56606e60b489f81d4ff9591881a6e95352a42f62c421b24d39eb409"
   }
  }
 },
 "nbformat": 4,
 "nbformat_minor": 4
}
