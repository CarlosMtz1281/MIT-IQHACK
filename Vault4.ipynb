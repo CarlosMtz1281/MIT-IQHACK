{
 "cells": [
  {
   "cell_type": "markdown",
   "metadata": {},
   "source": [
    "# Reconstruction exmaple"
   ]
  },
  {
   "cell_type": "markdown",
   "metadata": {},
   "source": [
    "## Import the relevant libraries"
   ]
  },
  {
   "cell_type": "code",
   "execution_count": 1,
   "metadata": {
    "tags": []
   },
   "outputs": [],
   "source": [
    "import cirq\n",
    "import numpy as np\n",
    "import sympy\n",
    "from qiskit import *\n",
    "from qiskit import QuantumCircuit"
   ]
  },
  {
   "cell_type": "code",
   "execution_count": 2,
   "metadata": {
    "tags": []
   },
   "outputs": [],
   "source": [
    "import server\n",
    "\n",
    "server = server.Server()"
   ]
  },
  {
   "cell_type": "markdown",
   "metadata": {},
   "source": [
    "## Register team"
   ]
  },
  {
   "cell_type": "code",
   "execution_count": 3,
   "metadata": {
    "tags": []
   },
   "outputs": [
    {
     "name": "stdout",
     "output_type": "stream",
     "text": [
      "Successfully registered new team, 'Sabritones'. Good luck!\n",
      "\n",
      "Reminder: attacks and probes are limited to 20 per vault, per team.\n",
      "Vault index 0 is a test vault with 50 test probes and attacks, and does not count towards your final score.\n",
      "There is a request frequency limit of 10 probes/attacks per minute, per team.\n"
     ]
    }
   ],
   "source": [
    "server.register(\"Sabritones\")"
   ]
  },
  {
   "cell_type": "markdown",
   "metadata": {},
   "source": [
    "## Test probe using vault 9\n"
   ]
  },
  {
   "cell_type": "code",
   "execution_count": 3,
   "metadata": {},
   "outputs": [
    {
     "name": "stdout",
     "output_type": "stream",
     "text": [
      "// Generated from Cirq v1.3.0\n",
      "\n",
      "OPENQASM 2.0;\n",
      "include \"qelib1.inc\";\n",
      "\n",
      "\n",
      "// Qubits: []\n",
      "\n"
     ]
    }
   ],
   "source": [
    "# Circuito 1\n",
    "circuit1 = cirq.Circuit()\n",
    "\n",
    "\n",
    "test_probe = cirq.qasm(circuit1)\n",
    "print(test_probe)"
   ]
  },
  {
   "cell_type": "code",
   "execution_count": 4,
   "metadata": {},
   "outputs": [
    {
     "data": {
      "text/plain": [
       "{'72': 0.005,\n",
       " '116': 0.005,\n",
       " '180': 0.005,\n",
       " '181': 0.005,\n",
       " '186': 0.005,\n",
       " '187': 0.005,\n",
       " '188': 0.005,\n",
       " '233': 0.005,\n",
       " '244': 0.005,\n",
       " '308': 0.005,\n",
       " '317': 0.005,\n",
       " '328': 0.005,\n",
       " '346': 0.005,\n",
       " '354': 0.01,\n",
       " '373': 0.005,\n",
       " '418': 0.005,\n",
       " '434': 0.005,\n",
       " '442': 0.005,\n",
       " '471': 0.005,\n",
       " '495': 0.005,\n",
       " '598': 0.005,\n",
       " '718': 0.005,\n",
       " '725': 0.005,\n",
       " '738': 0.005,\n",
       " '746': 0.005,\n",
       " '763': 0.005,\n",
       " '796': 0.005,\n",
       " '828': 0.005,\n",
       " '842': 0.005,\n",
       " '858': 0.005,\n",
       " '882': 0.005,\n",
       " '958': 0.005,\n",
       " '976': 0.005,\n",
       " '989': 0.005,\n",
       " '1003': 0.005,\n",
       " '1127': 0.005,\n",
       " '1318': 0.005,\n",
       " '1358': 0.005,\n",
       " '1495': 0.005,\n",
       " '1513': 0.005,\n",
       " '1569': 0.005,\n",
       " '1576': 0.005,\n",
       " '1581': 0.005,\n",
       " '1634': 0.005,\n",
       " '1636': 0.005,\n",
       " '1642': 0.005,\n",
       " '1661': 0.005,\n",
       " '1698': 0.005,\n",
       " '1716': 0.005,\n",
       " '1738': 0.005,\n",
       " '1742': 0.005,\n",
       " '1766': 0.005,\n",
       " '1767': 0.005,\n",
       " '1770': 0.005,\n",
       " '1790': 0.005,\n",
       " '1826': 0.005,\n",
       " '1827': 0.005,\n",
       " '1838': 0.005,\n",
       " '1840': 0.005,\n",
       " '1842': 0.005,\n",
       " '1850': 0.005,\n",
       " '1885': 0.005,\n",
       " '1892': 0.005,\n",
       " '1897': 0.005,\n",
       " '1898': 0.005,\n",
       " '1966': 0.005,\n",
       " '1982': 0.005,\n",
       " '1984': 0.005,\n",
       " '1993': 0.005,\n",
       " '2004': 0.005,\n",
       " '2007': 0.005,\n",
       " '2025': 0.005,\n",
       " '2032': 0.005,\n",
       " '2035': 0.005,\n",
       " '2046': 0.005,\n",
       " '2090': 0.005,\n",
       " '2091': 0.005,\n",
       " '2114': 0.005,\n",
       " '2115': 0.005,\n",
       " '2146': 0.005,\n",
       " '2148': 0.005,\n",
       " '2153': 0.005,\n",
       " '2154': 0.01,\n",
       " '2155': 0.005,\n",
       " '2156': 0.005,\n",
       " '2168': 0.005,\n",
       " '2197': 0.005,\n",
       " '2212': 0.005,\n",
       " '2242': 0.005,\n",
       " '2290': 0.005,\n",
       " '2304': 0.005,\n",
       " '2347': 0.005,\n",
       " '2378': 0.005,\n",
       " '2451': 0.005,\n",
       " '2453': 0.005,\n",
       " '2459': 0.005,\n",
       " '2490': 0.005,\n",
       " '2544': 0.005,\n",
       " '2586': 0.005,\n",
       " '2600': 0.005,\n",
       " '2670': 0.005,\n",
       " '2676': 0.01,\n",
       " '2677': 0.005,\n",
       " '2680': 0.005,\n",
       " '2682': 0.005,\n",
       " '2690': 0.005,\n",
       " '2700': 0.005,\n",
       " '2706': 0.005,\n",
       " '2707': 0.005,\n",
       " '2711': 0.005,\n",
       " '2762': 0.005,\n",
       " '2819': 0.005,\n",
       " '2826': 0.005,\n",
       " '2827': 0.005,\n",
       " '2828': 0.005,\n",
       " '2844': 0.005,\n",
       " '2847': 0.005,\n",
       " '2854': 0.005,\n",
       " '2874': 0.005,\n",
       " '2880': 0.005,\n",
       " '2886': 0.005,\n",
       " '2890': 0.015,\n",
       " '2906': 0.005,\n",
       " '2973': 0.005,\n",
       " '3011': 0.005,\n",
       " '3022': 0.005,\n",
       " '3102': 0.005,\n",
       " '3106': 0.01,\n",
       " '3123': 0.005,\n",
       " '3138': 0.005,\n",
       " '3159': 0.005,\n",
       " '3162': 0.005,\n",
       " '3174': 0.005,\n",
       " '3200': 0.005,\n",
       " '3203': 0.005,\n",
       " '3219': 0.01,\n",
       " '3224': 0.01,\n",
       " '3228': 0.005,\n",
       " '3235': 0.005,\n",
       " '3238': 0.005,\n",
       " '3250': 0.005,\n",
       " '3252': 0.005,\n",
       " '3253': 0.005,\n",
       " '3264': 0.005,\n",
       " '3278': 0.005,\n",
       " '3290': 0.01,\n",
       " '3298': 0.005,\n",
       " '3305': 0.005,\n",
       " '3306': 0.005,\n",
       " '3352': 0.005,\n",
       " '3358': 0.005,\n",
       " '3362': 0.005,\n",
       " '3366': 0.005,\n",
       " '3367': 0.005,\n",
       " '3372': 0.005,\n",
       " '3374': 0.005,\n",
       " '3375': 0.005,\n",
       " '3380': 0.005,\n",
       " '3388': 0.005,\n",
       " '3394': 0.005,\n",
       " '3400': 0.005,\n",
       " '3402': 0.005,\n",
       " '3414': 0.01,\n",
       " '3418': 0.005,\n",
       " '3426': 0.01,\n",
       " '3427': 0.005,\n",
       " '3435': 0.005,\n",
       " '3436': 0.005,\n",
       " '3444': 0.01,\n",
       " '3450': 0.005,\n",
       " '3530': 0.005,\n",
       " '3560': 0.005,\n",
       " '3564': 0.005,\n",
       " '3571': 0.005,\n",
       " '3616': 0.005,\n",
       " '3701': 0.005,\n",
       " '3706': 0.005,\n",
       " '3709': 0.005,\n",
       " '3819': 0.005,\n",
       " '3845': 0.005,\n",
       " '3868': 0.005,\n",
       " '3874': 0.005,\n",
       " '3914': 0.01,\n",
       " '3916': 0.005,\n",
       " '3927': 0.005,\n",
       " '3956': 0.005,\n",
       " '4066': 0.005}"
      ]
     },
     "execution_count": 4,
     "metadata": {},
     "output_type": "execute_result"
    }
   ],
   "source": [
    "#!!!!!!!!!!!!!!!!!!!!!!!!!!!!!!!!!!!!!!!!!!!!!!!!!!!!!!!!!!!!!!!!!!!!!!\n",
    "#!!!!!!!!!!!Be careful about the Endian of returned histogram!!!!!!!!!!\n",
    "#!!!!!!!!!!!!!!!!!!!!!!!!!!!!!!!!!!!!!!!!!!!!!!!!!!!!!!!!!!!!!!!!!!!!!!\n",
    "server.probe(vault_index=4, circuit=test_probe)"
   ]
  },
  {
   "cell_type": "markdown",
   "metadata": {},
   "source": [
    "## Test attack using vault 0"
   ]
  },
  {
   "cell_type": "code",
   "execution_count": 35,
   "metadata": {
    "tags": []
   },
   "outputs": [
    {
     "name": "stdout",
     "output_type": "stream",
     "text": [
      "// Generated from Cirq v1.3.0\n",
      "\n",
      "OPENQASM 2.0;\n",
      "include \"qelib1.inc\";\n",
      "\n",
      "\n",
      "// Qubits: []\n",
      "\n"
     ]
    }
   ],
   "source": [
    "circuit2 = cirq.Circuit()\n",
    "\n",
    "test_attack = cirq.qasm(circuit2)\n",
    "print(test_attack)"
   ]
  },
  {
   "cell_type": "code",
   "execution_count": 36,
   "metadata": {
    "tags": []
   },
   "outputs": [
    {
     "data": {
      "text/plain": [
       "{'costFactor': 1, 'score': 0, 'rawScore': 0}"
      ]
     },
     "execution_count": 36,
     "metadata": {},
     "output_type": "execute_result"
    }
   ],
   "source": [
    "server.attack(vault_index=3, circuit=test_attack)"
   ]
  },
  {
   "cell_type": "markdown",
   "metadata": {},
   "source": [
    "## Check state"
   ]
  },
  {
   "cell_type": "markdown",
   "metadata": {},
   "source": [
    "Check state for your team's current score(s), and number of probes/attacks remaining"
   ]
  },
  {
   "cell_type": "code",
   "execution_count": 16,
   "metadata": {
    "tags": []
   },
   "outputs": [
    {
     "data": {
      "text/plain": [
       "{'team': 'Sabritones',\n",
       " 'totalAvgScore': 0.14146813725490195,\n",
       " 'topVaultScores': [0.8,\n",
       "  0,\n",
       "  0,\n",
       "  0,\n",
       "  0,\n",
       "  0.499,\n",
       "  0,\n",
       "  0,\n",
       "  0,\n",
       "  0.7021176470588235,\n",
       "  0.254,\n",
       "  0.2155,\n",
       "  0.027],\n",
       " 'probesRemaining': [29, 20, 14, 20, 20, 12, 20, 20, 20, 15, 17, 15, 11],\n",
       " 'attacksRemaining': [30, 20, 20, 20, 20, 16, 20, 20, 20, 13, 17, 17, 19],\n",
       " 'reminder': 'Vault index 0 is a test vault, and does not count towards your final score.'}"
      ]
     },
     "execution_count": 16,
     "metadata": {},
     "output_type": "execute_result"
    }
   ],
   "source": [
    "server.state()"
   ]
  },
  {
   "cell_type": "code",
   "execution_count": null,
   "metadata": {},
   "outputs": [],
   "source": []
  }
 ],
 "metadata": {
  "kernelspec": {
   "display_name": "Python 3 [Default]",
   "language": "python",
   "name": "python3"
  },
  "language_info": {
   "codemirror_mode": {
    "name": "ipython",
    "version": 3
   },
   "file_extension": ".py",
   "mimetype": "text/x-python",
   "name": "python",
   "nbconvert_exporter": "python",
   "pygments_lexer": "ipython3",
   "version": "3.11.7"
  },
  "vscode": {
   "interpreter": {
    "hash": "159d45c1b56606e60b489f81d4ff9591881a6e95352a42f62c421b24d39eb409"
   }
  }
 },
 "nbformat": 4,
 "nbformat_minor": 4
}
