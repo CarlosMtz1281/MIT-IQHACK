{
 "cells": [
  {
   "cell_type": "markdown",
   "metadata": {},
   "source": [
    "# Reconstruction exmaple"
   ]
  },
  {
   "cell_type": "markdown",
   "metadata": {},
   "source": [
    "## Import the relevant libraries"
   ]
  },
  {
   "cell_type": "code",
   "execution_count": 1,
   "metadata": {
    "tags": []
   },
   "outputs": [],
   "source": [
    "import cirq\n",
    "import numpy as np\n",
    "import sympy\n",
    "from qiskit import *\n",
    "from qiskit import QuantumCircuit"
   ]
  },
  {
   "cell_type": "code",
   "execution_count": 2,
   "metadata": {
    "tags": []
   },
   "outputs": [],
   "source": [
    "import server\n",
    "\n",
    "server = server.Server()"
   ]
  },
  {
   "cell_type": "markdown",
   "metadata": {},
   "source": [
    "## Register team"
   ]
  },
  {
   "cell_type": "code",
   "execution_count": 3,
   "metadata": {
    "tags": []
   },
   "outputs": [
    {
     "name": "stdout",
     "output_type": "stream",
     "text": [
      "Successfully registered new team, 'Sabritones'. Good luck!\n",
      "\n",
      "Reminder: attacks and probes are limited to 20 per vault, per team.\n",
      "Vault index 0 is a test vault with 50 test probes and attacks, and does not count towards your final score.\n",
      "There is a request frequency limit of 10 probes/attacks per minute, per team.\n"
     ]
    }
   ],
   "source": [
    "server.register(\"Sabritones\")"
   ]
  },
  {
   "cell_type": "markdown",
   "metadata": {},
   "source": [
    "## Test probe using vault 9\n"
   ]
  },
  {
   "cell_type": "code",
   "execution_count": 11,
   "metadata": {},
   "outputs": [
    {
     "name": "stdout",
     "output_type": "stream",
     "text": [
      "// Generated from Cirq v1.3.0\n",
      "\n",
      "OPENQASM 2.0;\n",
      "include \"qelib1.inc\";\n",
      "\n",
      "\n",
      "// Qubits: [q(0), q(1), q(2)]\n",
      "qreg q[3];\n",
      "\n",
      "\n",
      "x q[2];\n",
      "cx q[2],q[0];\n",
      "cx q[2],q[1];\n",
      "s q[0];\n",
      "h q[1];\n",
      "h q[2];\n",
      "\n"
     ]
    }
   ],
   "source": [
    "qubits = cirq.LineQubit.range(3)  # Ajusta este número si tienes más qubits\n",
    "\n",
    "# Crear el circuito\n",
    "cq = cirq.Circuit()\n",
    "\n",
    "\n",
    "for i in range(1:15):\n",
    "    cq.append(cirq.H.on(cirq.LineQubit(i)))\n",
    "# Paso 1: Aplicar X al q[2] para ponerlo en |1⟩\n",
    "cq.append(cirq.X(qubits[2]))\n",
    "\n",
    "# Paso 2: Entrelazar q[2] con los otros qubits\n",
    "cq.append(cirq.CNOT(qubits[2], qubits[0]))\n",
    "cq.append(cirq.CNOT(qubits[2], qubits[1]))\n",
    "\n",
    "# Paso 3: Ajustar la fase de los qubits, si es necesario\n",
    "cq.append(cirq.S(qubits[0]))\n",
    "cq.append(cirq.H(qubits[1]))\n",
    "cq.append(cirq.H(qubits[2]))\n",
    "\n",
    "\n",
    "test_probe = cirq.qasm(cq)\n",
    "print(test_probe)"
   ]
  },
  {
   "cell_type": "code",
   "execution_count": 12,
   "metadata": {},
   "outputs": [
    {
     "data": {
      "text/plain": [
       "{'0': 0.155,\n",
       " '1': 0.125,\n",
       " '2': 0.19,\n",
       " '3': 0.235,\n",
       " '4': 0.075,\n",
       " '5': 0.01,\n",
       " '6': 0.095,\n",
       " '7': 0.115}"
      ]
     },
     "execution_count": 12,
     "metadata": {},
     "output_type": "execute_result"
    }
   ],
   "source": [
    "#!!!!!!!!!!!!!!!!!!!!!!!!!!!!!!!!!!!!!!!!!!!!!!!!!!!!!!!!!!!!!!!!!!!!!!\n",
    "#!!!!!!!!!!!Be careful about the Endian of returned histogram!!!!!!!!!!\n",
    "#!!!!!!!!!!!!!!!!!!!!!!!!!!!!!!!!!!!!!!!!!!!!!!!!!!!!!!!!!!!!!!!!!!!!!!\n",
    "server.probe(vault_index=10, circuit=test_probe)"
   ]
  },
  {
   "cell_type": "markdown",
   "metadata": {},
   "source": [
    "## Test attack using vault 0"
   ]
  },
  {
   "cell_type": "code",
   "execution_count": 13,
   "metadata": {
    "tags": []
   },
   "outputs": [
    {
     "name": "stdout",
     "output_type": "stream",
     "text": [
      "// Generated from Cirq v1.3.0\n",
      "\n",
      "OPENQASM 2.0;\n",
      "include \"qelib1.inc\";\n",
      "\n",
      "\n",
      "// Qubits: []\n",
      "\n"
     ]
    }
   ],
   "source": [
    "cq = cirq.Circuit()\n",
    "\"\"\"\n",
    "cq.append(cirq.CNOT.on(cirq.LineQubit(0), cirq.LineQubit(2)))\n",
    "cq.append(cirq.CNOT.on(cirq.LineQubit(0), cirq.LineQubit(1)))\n",
    "cq.append(cirq.H.on(cirq.LineQubit(0)))\n",
    "cq.append(cirq.X.on(cirq.LineQubit(0)))\n",
    "\"\"\"\n",
    "#cq.append(cirq.I.on(cirq.LineQubit(0)))\n",
    "#cq.append(cirq.I.on(cirq.LineQubit(1)))\n",
    "#cq.append(cirq.X.on(cirq.LineQubit(2)))\n",
    "#cq.append(cirq.CNOT(cirq.LineQubit(0), cirq.LineQubit(1)))\n",
    "#cq.append(cirq.CNOT(cirq.LineQubit(0), cirq.LineQubit(2)))\n",
    "\n",
    "\n",
    "test_attack = cirq.qasm(cq)\n",
    "print(test_attack)"
   ]
  },
  {
   "cell_type": "code",
   "execution_count": 14,
   "metadata": {
    "tags": []
   },
   "outputs": [
    {
     "data": {
      "text/plain": [
       "{'costFactor': 1, 'score': 0.254, 'rawScore': 0.254}"
      ]
     },
     "execution_count": 14,
     "metadata": {},
     "output_type": "execute_result"
    }
   ],
   "source": [
    "server.attack(vault_index=10, circuit=test_attack)"
   ]
  },
  {
   "cell_type": "markdown",
   "metadata": {},
   "source": [
    "## Check state"
   ]
  },
  {
   "cell_type": "markdown",
   "metadata": {},
   "source": [
    "Check state for your team's current score(s), and number of probes/attacks remaining"
   ]
  },
  {
   "cell_type": "code",
   "execution_count": 40,
   "metadata": {
    "tags": []
   },
   "outputs": [
    {
     "data": {
      "text/plain": [
       "{'team': 'Sabritones',\n",
       " 'totalAvgScore': 0.10009313725490195,\n",
       " 'topVaultScores': [0.8,\n",
       "  0,\n",
       "  0,\n",
       "  0,\n",
       "  0,\n",
       "  0.499,\n",
       "  0,\n",
       "  0,\n",
       "  0,\n",
       "  0.7021176470588235,\n",
       "  0,\n",
       "  0,\n",
       "  0],\n",
       " 'probesRemaining': [29, 20, 20, 20, 20, 12, 20, 20, 20, 15, 20, 20, 20],\n",
       " 'attacksRemaining': [30, 20, 20, 20, 20, 16, 20, 20, 20, 13, 20, 20, 20],\n",
       " 'reminder': 'Vault index 0 is a test vault, and does not count towards your final score.'}"
      ]
     },
     "execution_count": 40,
     "metadata": {},
     "output_type": "execute_result"
    }
   ],
   "source": [
    "server.state()"
   ]
  },
  {
   "cell_type": "code",
   "execution_count": null,
   "metadata": {},
   "outputs": [],
   "source": []
  }
 ],
 "metadata": {
  "kernelspec": {
   "display_name": "Python 3 [Default]",
   "language": "python",
   "name": "python3"
  },
  "language_info": {
   "codemirror_mode": {
    "name": "ipython",
    "version": 3
   },
   "file_extension": ".py",
   "mimetype": "text/x-python",
   "name": "python",
   "nbconvert_exporter": "python",
   "pygments_lexer": "ipython3",
   "version": "3.11.7"
  },
  "vscode": {
   "interpreter": {
    "hash": "159d45c1b56606e60b489f81d4ff9591881a6e95352a42f62c421b24d39eb409"
   }
  }
 },
 "nbformat": 4,
 "nbformat_minor": 4
}
