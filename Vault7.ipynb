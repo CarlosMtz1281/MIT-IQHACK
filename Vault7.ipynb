{
 "cells": [
  {
   "cell_type": "markdown",
   "metadata": {},
   "source": [
    "# Reconstruction exmaple"
   ]
  },
  {
   "cell_type": "markdown",
   "metadata": {},
   "source": [
    "## Import the relevant libraries"
   ]
  },
  {
   "cell_type": "code",
   "execution_count": 1,
   "metadata": {
    "tags": []
   },
   "outputs": [],
   "source": [
    "import cirq\n",
    "import numpy as np\n",
    "import sympy\n",
    "from qiskit import *\n",
    "from qiskit import QuantumCircuit"
   ]
  },
  {
   "cell_type": "code",
   "execution_count": 2,
   "metadata": {
    "tags": []
   },
   "outputs": [],
   "source": [
    "import server\n",
    "\n",
    "server = server.Server()"
   ]
  },
  {
   "cell_type": "markdown",
   "metadata": {},
   "source": [
    "## Register team"
   ]
  },
  {
   "cell_type": "code",
   "execution_count": 3,
   "metadata": {
    "tags": []
   },
   "outputs": [
    {
     "name": "stdout",
     "output_type": "stream",
     "text": [
      "Successfully registered new team, 'Sabritones'. Good luck!\n",
      "\n",
      "Reminder: attacks and probes are limited to 20 per vault, per team.\n",
      "Vault index 0 is a test vault with 50 test probes and attacks, and does not count towards your final score.\n",
      "There is a request frequency limit of 10 probes/attacks per minute, per team.\n"
     ]
    }
   ],
   "source": [
    "server.register(\"Sabritones\")"
   ]
  },
  {
   "cell_type": "markdown",
   "metadata": {},
   "source": [
    "## Test probe using vault 9\n"
   ]
  },
  {
   "cell_type": "code",
   "execution_count": 23,
   "metadata": {},
   "outputs": [
    {
     "name": "stdout",
     "output_type": "stream",
     "text": [
      "// Generated from Cirq v1.3.0\n",
      "\n",
      "OPENQASM 2.0;\n",
      "include \"qelib1.inc\";\n",
      "\n",
      "\n",
      "// Qubits: [q(1), q(3), q(5), q(7), q(8), q(9)]\n",
      "qreg q[6];\n",
      "\n",
      "\n",
      "s q[0];\n",
      "y q[1];\n",
      "cz q[2],q[3];\n",
      "cx q[4],q[5];\n",
      "\n"
     ]
    }
   ],
   "source": [
    "# Circuito 1\n",
    "circuit1 = cirq.Circuit(\n",
    "    cirq.H(cirq.LineQubit(0)),\n",
    "    cirq.X(cirq.LineQubit(1)),\n",
    "    cirq.Z(cirq.LineQubit(2))\n",
    ")\n",
    "\n",
    "circuit2 = cirq.Circuit(\n",
    "    cirq.Y(cirq.LineQubit(3)),\n",
    "    cirq.CNOT(cirq.LineQubit(4), cirq.LineQubit(5)),\n",
    "    cirq.S(cirq.LineQubit(6))\n",
    ")\n",
    "\n",
    "circuit3 = cirq.Circuit(\n",
    "    cirq.T(cirq.LineQubit(7)),\n",
    "    cirq.H(cirq.LineQubit(8)),\n",
    "    cirq.CZ(cirq.LineQubit(1), cirq.LineQubit(9))\n",
    ")\n",
    "\n",
    "circuit4 = cirq.Circuit(\n",
    "    cirq.X(cirq.LineQubit(0)),\n",
    "    cirq.H(cirq.LineQubit(2)),\n",
    "    cirq.T(cirq.LineQubit(4))\n",
    ")\n",
    "\n",
    "circuit5 = cirq.Circuit(\n",
    "    cirq.Y(cirq.LineQubit(5)),\n",
    "    cirq.S(cirq.LineQubit(7)),\n",
    "    cirq.CNOT(cirq.LineQubit(8), cirq.LineQubit(9))\n",
    ")\n",
    "\n",
    "circuit6 = cirq.Circuit(\n",
    "    cirq.Z(cirq.LineQubit(0)),\n",
    "    cirq.X(cirq.LineQubit(3)),\n",
    "    cirq.H(cirq.LineQubit(6))\n",
    ")\n",
    "circuit7 = cirq.Circuit(\n",
    "    cirq.CZ(cirq.LineQubit(1), cirq.LineQubit(2)),\n",
    "    cirq.T(cirq.LineQubit(4)),\n",
    "    cirq.S(cirq.LineQubit(5))\n",
    ")\n",
    "\n",
    "circuit8 = cirq.Circuit(\n",
    "    cirq.H(cirq.LineQubit(7)),\n",
    "    cirq.Y(cirq.LineQubit(9)),\n",
    "    cirq.CNOT(cirq.LineQubit(0), cirq.LineQubit(1))\n",
    ")\n",
    "\n",
    "circuit9 = cirq.Circuit(\n",
    "    cirq.X(cirq.LineQubit(2)),\n",
    "    cirq.Z(cirq.LineQubit(4)),\n",
    "    cirq.T(cirq.LineQubit(6)),\n",
    "    cirq.H(cirq.LineQubit(8))\n",
    ")\n",
    "\n",
    "circuit10 = cirq.Circuit(\n",
    "    cirq.S(cirq.LineQubit(1)),\n",
    "    cirq.Y(cirq.LineQubit(3)),\n",
    "    cirq.CZ(cirq.LineQubit(5), cirq.LineQubit(7)),\n",
    "    cirq.CNOT(cirq.LineQubit(8), cirq.LineQubit(9))\n",
    ")\n",
    "\n",
    "\n",
    "\n",
    "\n",
    "test_probe = cirq.qasm(circuit10)\n",
    "print(test_probe)"
   ]
  },
  {
   "cell_type": "code",
   "execution_count": 24,
   "metadata": {},
   "outputs": [
    {
     "data": {
      "text/plain": [
       "{'4': 0.005,\n",
       " '11': 0.005,\n",
       " '18': 0.005,\n",
       " '19': 0.01,\n",
       " '20': 0.01,\n",
       " '32': 0.005,\n",
       " '40': 0.005,\n",
       " '55': 0.005,\n",
       " '59': 0.005,\n",
       " '61': 0.005,\n",
       " '65': 0.005,\n",
       " '70': 0.005,\n",
       " '72': 0.005,\n",
       " '89': 0.005,\n",
       " '96': 0.005,\n",
       " '98': 0.005,\n",
       " '99': 0.005,\n",
       " '102': 0.005,\n",
       " '104': 0.005,\n",
       " '113': 0.005,\n",
       " '121': 0.01,\n",
       " '123': 0.005,\n",
       " '126': 0.005,\n",
       " '132': 0.005,\n",
       " '134': 0.005,\n",
       " '138': 0.005,\n",
       " '141': 0.005,\n",
       " '146': 0.005,\n",
       " '153': 0.005,\n",
       " '162': 0.005,\n",
       " '165': 0.005,\n",
       " '166': 0.005,\n",
       " '168': 0.005,\n",
       " '175': 0.005,\n",
       " '187': 0.005,\n",
       " '190': 0.005,\n",
       " '201': 0.005,\n",
       " '204': 0.005,\n",
       " '213': 0.005,\n",
       " '214': 0.005,\n",
       " '215': 0.005,\n",
       " '228': 0.005,\n",
       " '229': 0.005,\n",
       " '232': 0.005,\n",
       " '243': 0.005,\n",
       " '250': 0.005,\n",
       " '254': 0.005,\n",
       " '259': 0.005,\n",
       " '260': 0.005,\n",
       " '270': 0.005,\n",
       " '271': 0.005,\n",
       " '276': 0.005,\n",
       " '289': 0.005,\n",
       " '296': 0.005,\n",
       " '297': 0.005,\n",
       " '303': 0.005,\n",
       " '304': 0.005,\n",
       " '305': 0.005,\n",
       " '308': 0.005,\n",
       " '319': 0.005,\n",
       " '322': 0.005,\n",
       " '325': 0.005,\n",
       " '326': 0.005,\n",
       " '353': 0.005,\n",
       " '368': 0.01,\n",
       " '372': 0.005,\n",
       " '376': 0.005,\n",
       " '377': 0.005,\n",
       " '392': 0.005,\n",
       " '406': 0.005,\n",
       " '407': 0.005,\n",
       " '416': 0.005,\n",
       " '424': 0.01,\n",
       " '433': 0.005,\n",
       " '434': 0.005,\n",
       " '439': 0.005,\n",
       " '441': 0.005,\n",
       " '444': 0.005,\n",
       " '446': 0.005,\n",
       " '447': 0.005,\n",
       " '448': 0.005,\n",
       " '449': 0.005,\n",
       " '457': 0.005,\n",
       " '464': 0.005,\n",
       " '467': 0.005,\n",
       " '472': 0.005,\n",
       " '477': 0.005,\n",
       " '479': 0.005,\n",
       " '502': 0.005,\n",
       " '513': 0.005,\n",
       " '533': 0.005,\n",
       " '534': 0.005,\n",
       " '535': 0.005,\n",
       " '541': 0.005,\n",
       " '548': 0.005,\n",
       " '557': 0.005,\n",
       " '561': 0.005,\n",
       " '580': 0.005,\n",
       " '581': 0.005,\n",
       " '582': 0.01,\n",
       " '583': 0.01,\n",
       " '585': 0.005,\n",
       " '588': 0.005,\n",
       " '589': 0.01,\n",
       " '591': 0.005,\n",
       " '595': 0.005,\n",
       " '600': 0.005,\n",
       " '604': 0.005,\n",
       " '605': 0.005,\n",
       " '606': 0.005,\n",
       " '617': 0.005,\n",
       " '619': 0.005,\n",
       " '620': 0.005,\n",
       " '626': 0.005,\n",
       " '628': 0.005,\n",
       " '630': 0.005,\n",
       " '631': 0.005,\n",
       " '632': 0.01,\n",
       " '636': 0.005,\n",
       " '655': 0.005,\n",
       " '659': 0.005,\n",
       " '661': 0.005,\n",
       " '667': 0.005,\n",
       " '668': 0.01,\n",
       " '672': 0.005,\n",
       " '676': 0.005,\n",
       " '682': 0.005,\n",
       " '683': 0.005,\n",
       " '686': 0.005,\n",
       " '694': 0.005,\n",
       " '698': 0.005,\n",
       " '709': 0.01,\n",
       " '714': 0.01,\n",
       " '716': 0.005,\n",
       " '720': 0.005,\n",
       " '721': 0.005,\n",
       " '731': 0.005,\n",
       " '732': 0.005,\n",
       " '733': 0.005,\n",
       " '739': 0.005,\n",
       " '742': 0.005,\n",
       " '747': 0.01,\n",
       " '752': 0.005,\n",
       " '757': 0.01,\n",
       " '792': 0.005,\n",
       " '796': 0.005,\n",
       " '799': 0.005,\n",
       " '810': 0.005,\n",
       " '812': 0.005,\n",
       " '818': 0.005,\n",
       " '825': 0.005,\n",
       " '826': 0.005,\n",
       " '833': 0.005,\n",
       " '840': 0.005,\n",
       " '848': 0.005,\n",
       " '852': 0.005,\n",
       " '858': 0.005,\n",
       " '866': 0.005,\n",
       " '868': 0.005,\n",
       " '876': 0.005,\n",
       " '887': 0.005,\n",
       " '888': 0.005,\n",
       " '890': 0.005,\n",
       " '902': 0.01,\n",
       " '913': 0.01,\n",
       " '918': 0.005,\n",
       " '941': 0.005,\n",
       " '947': 0.005,\n",
       " '950': 0.005,\n",
       " '951': 0.005,\n",
       " '956': 0.005,\n",
       " '966': 0.005,\n",
       " '967': 0.01,\n",
       " '975': 0.005,\n",
       " '979': 0.005,\n",
       " '985': 0.005,\n",
       " '986': 0.005,\n",
       " '998': 0.005,\n",
       " '999': 0.005,\n",
       " '1000': 0.005,\n",
       " '1002': 0.005,\n",
       " '1012': 0.005,\n",
       " '1022': 0.005}"
      ]
     },
     "execution_count": 24,
     "metadata": {},
     "output_type": "execute_result"
    }
   ],
   "source": [
    "#!!!!!!!!!!!!!!!!!!!!!!!!!!!!!!!!!!!!!!!!!!!!!!!!!!!!!!!!!!!!!!!!!!!!!!\n",
    "#!!!!!!!!!!!Be careful about the Endian of returned histogram!!!!!!!!!!\n",
    "#!!!!!!!!!!!!!!!!!!!!!!!!!!!!!!!!!!!!!!!!!!!!!!!!!!!!!!!!!!!!!!!!!!!!!!\n",
    "server.probe(vault_index=7, circuit=test_probe)"
   ]
  },
  {
   "cell_type": "markdown",
   "metadata": {},
   "source": [
    "## Test attack using vault 0"
   ]
  },
  {
   "cell_type": "code",
   "execution_count": 25,
   "metadata": {
    "tags": []
   },
   "outputs": [
    {
     "name": "stdout",
     "output_type": "stream",
     "text": [
      "// Generated from Cirq v1.3.0\n",
      "\n",
      "OPENQASM 2.0;\n",
      "include \"qelib1.inc\";\n",
      "\n",
      "\n",
      "// Qubits: []\n",
      "\n"
     ]
    }
   ],
   "source": [
    "circuit1 = cirq.Circuit()\n",
    "\n",
    "test_attack = cirq.qasm(circuit1)\n",
    "print(test_attack)"
   ]
  },
  {
   "cell_type": "code",
   "execution_count": 26,
   "metadata": {
    "tags": []
   },
   "outputs": [
    {
     "data": {
      "text/plain": [
       "{'costFactor': 1, 'score': 0.0015, 'rawScore': 0.0015}"
      ]
     },
     "execution_count": 26,
     "metadata": {},
     "output_type": "execute_result"
    }
   ],
   "source": [
    "server.attack(vault_index=7, circuit=test_attack)"
   ]
  },
  {
   "cell_type": "markdown",
   "metadata": {},
   "source": [
    "## Check state"
   ]
  },
  {
   "cell_type": "markdown",
   "metadata": {},
   "source": [
    "Check state for your team's current score(s), and number of probes/attacks remaining"
   ]
  },
  {
   "cell_type": "code",
   "execution_count": 16,
   "metadata": {
    "tags": []
   },
   "outputs": [
    {
     "data": {
      "text/plain": [
       "{'team': 'Sabritones',\n",
       " 'totalAvgScore': 0.14146813725490195,\n",
       " 'topVaultScores': [0.8,\n",
       "  0,\n",
       "  0,\n",
       "  0,\n",
       "  0,\n",
       "  0.499,\n",
       "  0,\n",
       "  0,\n",
       "  0,\n",
       "  0.7021176470588235,\n",
       "  0.254,\n",
       "  0.2155,\n",
       "  0.027],\n",
       " 'probesRemaining': [29, 20, 14, 20, 20, 12, 20, 20, 20, 15, 17, 15, 11],\n",
       " 'attacksRemaining': [30, 20, 20, 20, 20, 16, 20, 20, 20, 13, 17, 17, 19],\n",
       " 'reminder': 'Vault index 0 is a test vault, and does not count towards your final score.'}"
      ]
     },
     "execution_count": 16,
     "metadata": {},
     "output_type": "execute_result"
    }
   ],
   "source": [
    "server.state()"
   ]
  },
  {
   "cell_type": "code",
   "execution_count": null,
   "metadata": {},
   "outputs": [],
   "source": []
  }
 ],
 "metadata": {
  "kernelspec": {
   "display_name": "Python 3 [Default]",
   "language": "python",
   "name": "python3"
  },
  "language_info": {
   "codemirror_mode": {
    "name": "ipython",
    "version": 3
   },
   "file_extension": ".py",
   "mimetype": "text/x-python",
   "name": "python",
   "nbconvert_exporter": "python",
   "pygments_lexer": "ipython3",
   "version": "3.11.7"
  },
  "vscode": {
   "interpreter": {
    "hash": "159d45c1b56606e60b489f81d4ff9591881a6e95352a42f62c421b24d39eb409"
   }
  }
 },
 "nbformat": 4,
 "nbformat_minor": 4
}
