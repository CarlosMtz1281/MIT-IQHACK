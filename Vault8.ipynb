{
 "cells": [
  {
   "cell_type": "markdown",
   "metadata": {},
   "source": [
    "# Reconstruction exmaple"
   ]
  },
  {
   "cell_type": "markdown",
   "metadata": {},
   "source": [
    "## Import the relevant libraries"
   ]
  },
  {
   "cell_type": "code",
   "execution_count": 1,
   "metadata": {
    "tags": []
   },
   "outputs": [],
   "source": [
    "import cirq\n",
    "import numpy as np\n",
    "import sympy\n",
    "from qiskit import *\n",
    "from qiskit import QuantumCircuit"
   ]
  },
  {
   "cell_type": "code",
   "execution_count": 2,
   "metadata": {
    "tags": []
   },
   "outputs": [],
   "source": [
    "import server\n",
    "\n",
    "server = server.Server()"
   ]
  },
  {
   "cell_type": "markdown",
   "metadata": {},
   "source": [
    "## Register team"
   ]
  },
  {
   "cell_type": "code",
   "execution_count": 3,
   "metadata": {
    "tags": []
   },
   "outputs": [
    {
     "name": "stdout",
     "output_type": "stream",
     "text": [
      "Successfully registered new team, 'Sabritones'. Good luck!\n",
      "\n",
      "Reminder: attacks and probes are limited to 20 per vault, per team.\n",
      "Vault index 0 is a test vault with 50 test probes and attacks, and does not count towards your final score.\n",
      "There is a request frequency limit of 10 probes/attacks per minute, per team.\n"
     ]
    }
   ],
   "source": [
    "server.register(\"Sabritones\")"
   ]
  },
  {
   "cell_type": "markdown",
   "metadata": {},
   "source": [
    "## Test probe using vault 9\n"
   ]
  },
  {
   "cell_type": "code",
   "execution_count": 4,
   "metadata": {},
   "outputs": [
    {
     "name": "stdout",
     "output_type": "stream",
     "text": [
      "// Generated from Cirq v1.3.0\n",
      "\n",
      "OPENQASM 2.0;\n",
      "include \"qelib1.inc\";\n",
      "\n",
      "\n",
      "// Qubits: []\n",
      "\n"
     ]
    }
   ],
   "source": [
    "# Circuito 1\n",
    "circuit1 = cirq.Circuit()\n",
    "\n",
    "\n",
    "\n",
    "\n",
    "test_probe = cirq.qasm(circuit1)\n",
    "print(test_probe)"
   ]
  },
  {
   "cell_type": "code",
   "execution_count": 5,
   "metadata": {},
   "outputs": [
    {
     "data": {
      "text/plain": [
       "{'76': 0.005,\n",
       " '191': 0.005,\n",
       " '303': 0.005,\n",
       " '307': 0.005,\n",
       " '314': 0.005,\n",
       " '329': 0.005,\n",
       " '331': 0.005,\n",
       " '521': 0.005,\n",
       " '642': 0.005,\n",
       " '890': 0.005,\n",
       " '950': 0.005,\n",
       " '986': 0.005,\n",
       " '1050': 0.005,\n",
       " '1133': 0.005,\n",
       " '1163': 0.005,\n",
       " '1427': 0.005,\n",
       " '1539': 0.005,\n",
       " '1574': 0.005,\n",
       " '1590': 0.005,\n",
       " '1642': 0.005,\n",
       " '1671': 0.005,\n",
       " '1808': 0.005,\n",
       " '1937': 0.005,\n",
       " '1945': 0.005,\n",
       " '1969': 0.005,\n",
       " '2028': 0.005,\n",
       " '2112': 0.005,\n",
       " '2159': 0.005,\n",
       " '2219': 0.005,\n",
       " '2263': 0.005,\n",
       " '2348': 0.005,\n",
       " '2448': 0.005,\n",
       " '2604': 0.005,\n",
       " '2642': 0.005,\n",
       " '2662': 0.005,\n",
       " '2698': 0.005,\n",
       " '2811': 0.005,\n",
       " '3001': 0.005,\n",
       " '3050': 0.005,\n",
       " '3220': 0.005,\n",
       " '3276': 0.005,\n",
       " '3422': 0.005,\n",
       " '3438': 0.005,\n",
       " '3446': 0.005,\n",
       " '3654': 0.005,\n",
       " '3668': 0.005,\n",
       " '3725': 0.005,\n",
       " '3897': 0.005,\n",
       " '4004': 0.005,\n",
       " '4075': 0.005,\n",
       " '4149': 0.005,\n",
       " '4167': 0.005,\n",
       " '4334': 0.005,\n",
       " '4348': 0.005,\n",
       " '4423': 0.005,\n",
       " '4633': 0.005,\n",
       " '4741': 0.005,\n",
       " '4752': 0.005,\n",
       " '4851': 0.005,\n",
       " '4873': 0.005,\n",
       " '4887': 0.005,\n",
       " '4941': 0.005,\n",
       " '5110': 0.005,\n",
       " '5167': 0.005,\n",
       " '5209': 0.005,\n",
       " '5219': 0.005,\n",
       " '5658': 0.005,\n",
       " '5890': 0.005,\n",
       " '5897': 0.005,\n",
       " '5959': 0.005,\n",
       " '6022': 0.005,\n",
       " '6041': 0.005,\n",
       " '6282': 0.005,\n",
       " '6496': 0.005,\n",
       " '6524': 0.005,\n",
       " '6671': 0.005,\n",
       " '6787': 0.005,\n",
       " '6793': 0.005,\n",
       " '6941': 0.005,\n",
       " '6944': 0.005,\n",
       " '7024': 0.005,\n",
       " '7068': 0.005,\n",
       " '7117': 0.005,\n",
       " '7141': 0.005,\n",
       " '7160': 0.005,\n",
       " '7169': 0.005,\n",
       " '7186': 0.005,\n",
       " '7325': 0.005,\n",
       " '7430': 0.005,\n",
       " '7473': 0.005,\n",
       " '7560': 0.005,\n",
       " '7640': 0.005,\n",
       " '7678': 0.005,\n",
       " '8035': 0.005,\n",
       " '8213': 0.005,\n",
       " '8536': 0.005,\n",
       " '8549': 0.005,\n",
       " '8572': 0.005,\n",
       " '8665': 0.005,\n",
       " '8775': 0.005,\n",
       " '8927': 0.005,\n",
       " '8991': 0.005,\n",
       " '9283': 0.005,\n",
       " '9306': 0.005,\n",
       " '9313': 0.005,\n",
       " '9324': 0.005,\n",
       " '9338': 0.005,\n",
       " '9342': 0.005,\n",
       " '9375': 0.005,\n",
       " '9409': 0.005,\n",
       " '9436': 0.005,\n",
       " '9439': 0.005,\n",
       " '9457': 0.005,\n",
       " '9523': 0.005,\n",
       " '9609': 0.005,\n",
       " '9665': 0.005,\n",
       " '9680': 0.005,\n",
       " '9700': 0.005,\n",
       " '9875': 0.005,\n",
       " '9909': 0.005,\n",
       " '9935': 0.005,\n",
       " '10028': 0.005,\n",
       " '10059': 0.005,\n",
       " '10085': 0.005,\n",
       " '10107': 0.005,\n",
       " '10119': 0.005,\n",
       " '10125': 0.005,\n",
       " '10182': 0.005,\n",
       " '10484': 0.005,\n",
       " '10551': 0.005,\n",
       " '10582': 0.005,\n",
       " '10684': 0.005,\n",
       " '10700': 0.005,\n",
       " '10702': 0.005,\n",
       " '10753': 0.005,\n",
       " '10816': 0.005,\n",
       " '10924': 0.005,\n",
       " '10934': 0.005,\n",
       " '10987': 0.005,\n",
       " '11105': 0.005,\n",
       " '11170': 0.005,\n",
       " '11345': 0.005,\n",
       " '11346': 0.005,\n",
       " '11426': 0.005,\n",
       " '11429': 0.005,\n",
       " '11460': 0.005,\n",
       " '11532': 0.005,\n",
       " '11541': 0.005,\n",
       " '11702': 0.005,\n",
       " '11717': 0.005,\n",
       " '11736': 0.005,\n",
       " '11830': 0.005,\n",
       " '11882': 0.005,\n",
       " '11960': 0.005,\n",
       " '11962': 0.005,\n",
       " '12045': 0.005,\n",
       " '12112': 0.005,\n",
       " '12116': 0.005,\n",
       " '12685': 0.005,\n",
       " '12749': 0.005,\n",
       " '12788': 0.005,\n",
       " '12971': 0.005,\n",
       " '13003': 0.005,\n",
       " '13093': 0.005,\n",
       " '13208': 0.005,\n",
       " '13227': 0.005,\n",
       " '13333': 0.005,\n",
       " '13451': 0.005,\n",
       " '13581': 0.005,\n",
       " '13641': 0.005,\n",
       " '13728': 0.005,\n",
       " '13867': 0.005,\n",
       " '13893': 0.005,\n",
       " '14021': 0.005,\n",
       " '14194': 0.005,\n",
       " '14223': 0.005,\n",
       " '14254': 0.005,\n",
       " '14435': 0.005,\n",
       " '14446': 0.005,\n",
       " '14610': 0.005,\n",
       " '14613': 0.005,\n",
       " '14689': 0.005,\n",
       " '15064': 0.005,\n",
       " '15164': 0.005,\n",
       " '15205': 0.005,\n",
       " '15225': 0.005,\n",
       " '15306': 0.005,\n",
       " '15462': 0.005,\n",
       " '15472': 0.005,\n",
       " '15477': 0.005,\n",
       " '15609': 0.005,\n",
       " '15664': 0.005,\n",
       " '15764': 0.005,\n",
       " '15788': 0.005,\n",
       " '15982': 0.005,\n",
       " '15998': 0.005,\n",
       " '16003': 0.005,\n",
       " '16033': 0.005,\n",
       " '16193': 0.005,\n",
       " '16365': 0.005}"
      ]
     },
     "execution_count": 5,
     "metadata": {},
     "output_type": "execute_result"
    }
   ],
   "source": [
    "#!!!!!!!!!!!!!!!!!!!!!!!!!!!!!!!!!!!!!!!!!!!!!!!!!!!!!!!!!!!!!!!!!!!!!!\n",
    "#!!!!!!!!!!!Be careful about the Endian of returned histogram!!!!!!!!!!\n",
    "#!!!!!!!!!!!!!!!!!!!!!!!!!!!!!!!!!!!!!!!!!!!!!!!!!!!!!!!!!!!!!!!!!!!!!!\n",
    "server.probe(vault_index=8, circuit=test_probe)"
   ]
  },
  {
   "cell_type": "markdown",
   "metadata": {},
   "source": [
    "## Test attack using vault 0"
   ]
  },
  {
   "cell_type": "code",
   "execution_count": 34,
   "metadata": {
    "tags": []
   },
   "outputs": [
    {
     "name": "stdout",
     "output_type": "stream",
     "text": [
      "// Generated from Cirq v1.3.0\n",
      "\n",
      "OPENQASM 2.0;\n",
      "include \"qelib1.inc\";\n",
      "\n",
      "\n",
      "// Qubits: [q(0), q(1), q(2), q(3), q(4), q(5)]\n",
      "qreg q[6];\n",
      "\n",
      "\n",
      "s q[0];\n",
      "t q[1];\n",
      "h q[2];\n",
      "cz q[3],q[5];\n",
      "cx q[4],q[0];\n",
      "\n"
     ]
    }
   ],
   "source": [
    "circuit1 = cirq.C\n",
    "\n",
    "test_attack = cirq.qasm(circuit8)\n",
    "print(test_attack)"
   ]
  },
  {
   "cell_type": "code",
   "execution_count": null,
   "metadata": {
    "tags": []
   },
   "outputs": [],
   "source": [
    "server.attack(vault_index=8, circuit=test_attack)"
   ]
  },
  {
   "cell_type": "markdown",
   "metadata": {},
   "source": [
    "## Check state"
   ]
  },
  {
   "cell_type": "markdown",
   "metadata": {},
   "source": [
    "Check state for your team's current score(s), and number of probes/attacks remaining"
   ]
  },
  {
   "cell_type": "code",
   "execution_count": 16,
   "metadata": {
    "tags": []
   },
   "outputs": [
    {
     "data": {
      "text/plain": [
       "{'team': 'Sabritones',\n",
       " 'totalAvgScore': 0.14146813725490195,\n",
       " 'topVaultScores': [0.8,\n",
       "  0,\n",
       "  0,\n",
       "  0,\n",
       "  0,\n",
       "  0.499,\n",
       "  0,\n",
       "  0,\n",
       "  0,\n",
       "  0.7021176470588235,\n",
       "  0.254,\n",
       "  0.2155,\n",
       "  0.027],\n",
       " 'probesRemaining': [29, 20, 14, 20, 20, 12, 20, 20, 20, 15, 17, 15, 11],\n",
       " 'attacksRemaining': [30, 20, 20, 20, 20, 16, 20, 20, 20, 13, 17, 17, 19],\n",
       " 'reminder': 'Vault index 0 is a test vault, and does not count towards your final score.'}"
      ]
     },
     "execution_count": 16,
     "metadata": {},
     "output_type": "execute_result"
    }
   ],
   "source": [
    "server.state()"
   ]
  },
  {
   "cell_type": "code",
   "execution_count": null,
   "metadata": {},
   "outputs": [],
   "source": []
  }
 ],
 "metadata": {
  "kernelspec": {
   "display_name": "Python 3 [Default]",
   "language": "python",
   "name": "python3"
  },
  "language_info": {
   "codemirror_mode": {
    "name": "ipython",
    "version": 3
   },
   "file_extension": ".py",
   "mimetype": "text/x-python",
   "name": "python",
   "nbconvert_exporter": "python",
   "pygments_lexer": "ipython3",
   "version": "3.11.7"
  },
  "vscode": {
   "interpreter": {
    "hash": "159d45c1b56606e60b489f81d4ff9591881a6e95352a42f62c421b24d39eb409"
   }
  }
 },
 "nbformat": 4,
 "nbformat_minor": 4
}
